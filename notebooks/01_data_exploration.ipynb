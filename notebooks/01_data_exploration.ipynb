  {
   "cell_type": "markdown",
   "metadata": {},
   "source": [
    "## Save Processed Data"
   ]
  },
  {
   "cell_type": "code",
   "execution_count": null,
   "metadata": {},
   "outputs": [],
   "source": [
    "# Create processed data directory if it doesn't exist\n",
    "os.makedirs('../data/processed', exist_ok=True)\n",
    "\n",
    "# Save processed data\n",
    "processed_path = '../data/processed/preprocessed_aptamers.csv'\n",
    "normalized_df.to_csv(processed_path, index=False)\n",
    "print(f\"Processed data saved to {processed_path}\")"
   ]
  },
  {
   "cell_type": "markdown",
   "metadata": {},
   "source": [
    "## Sequence Analysis"
   ]
  },
  {
   "cell_type": "code",
   "execution_count": null,
   "metadata": {},
   "outputs": [],
   "source": [
    "# Check for sequence patterns and motifs\n",
    "import re\n",
    "\n",
    "def find_motifs(sequences, motif_patterns):\n",
    "    \"\"\"Find common motifs in sequences.\"\"\"\n",
    "    motif_counts = {motif: 0 for motif in motif_patterns}\n",
    "    \n",
    "    for seq in sequences:\n",
    "        for motif, pattern in motif_patterns.items():\n",
    "            if re.search(pattern, seq, re.IGNORECASE):\n",
    "                motif_counts[motif] += 1\n",
    "    \n",
    "    return motif_counts\n",
    "\n",
    "# Define interesting motifs to look for\n",
    "motif_patterns = {\n",
    "    'G-quadruplex': r'(G{3,}).{1,7}(G{3,}).{1,7}(G{3,}).{1,7}(G{3,})',  # G-quadruplex pattern\n",
    "    'AT-rich region': r'[AT]{6,}',  # 6 or more consecutive A/T\n",
    "    'GC-rich region': r'[GC]{6,}',  # 6 or more consecutive G/C\n",
    "    'GAAA tetraloop': r'GAAA',      # Common RNA tetraloop\n",
    "    'UUCG tetraloop': r'[TU][TU]CG' # Common RNA tetraloop (allowing T or U)\n",
    "}\n",
    "\n",
    "if seq_col in normalized_df.columns:\n",
    "    # Find motifs\n",
    "    motif_counts = find_motifs(normalized_df[seq_col], motif_patterns)\n",
    "    \n",
    "    # Calculate percentages\n",
    "    total_seqs = len(normalized_df)\n",
    "    motif_percentages = {motif: count / total_seqs * 100 for motif, count in motif_counts.items()}\n",
    "    \n",
    "    # Plot results\n",
    "    plt.figure(figsize=(10, 6))\n",
    "    bars = plt.bar(motif_percentages.keys(), motif_percentages.values())\n",
    "    plt.title('Common Sequence Motifs')\n",
    "    plt.xlabel('Motif')\n",
    "    plt.ylabel('Percentage of Sequences (%)')\n",
    "    plt.xticks(rotation=45, ha='right')\n",
    "    \n",
    "    # Add percentage labels\n",
    "    for bar in bars:\n",
    "        height = bar.get_height()\n",
    "        plt.text(bar.get_x() + bar.get_width()/2., height + 0.5,\n",
    "                f'{height:.1f}%', ha='center')\n",
    "    \n",
    "    plt.tight_layout()\n",
    "    plt.show()\n",
    "    \n",
    "    # Print raw counts\n",
    "    print(\"Motif counts:\")\n",
    "    for motif, count in motif_counts.items():\n",
    "        print(f\"{motif}: {count}/{total_seqs} sequences ({motif_percentages[motif]:.1f}%)\")"
   ]
  },
  {
   "cell_type": "markdown",
   "metadata": {},
   "source": [
    "## Target-Specific Analysis"
   ]
  },
  {
   "cell_type": "code",
   "execution_count": null,
   "metadata": {},
   "outputs": [],
   "source": [
    "if 'Target_Name' in normalized_df.columns and seq_col in normalized_df.columns:\n",
    "    # Get unique targets\n",
    "    targets = normalized_df['Target_Name'].unique()\n",
    "    \n",
    "    # Create figure for sequence length by target\n",
    "    plt.figure(figsize=(12, 6))\n",
    "    sns.boxplot(x='Target_Name', y='length', data=normalized_df)\n",
    "    plt.title('Sequence Length by Target')\n",
    "    plt.xlabel('Target')\n",
    "    plt.ylabel('Sequence Length (nucleotides)')\n",
    "    plt.xticks(rotation=45, ha='right')\n",
    "    plt.tight_layout()\n",
    "    plt.show()\n",
    "    \n",
    "    # Create figure for GC content by target\n",
    "    plt.figure(figsize=(12, 6))\n",
    "    gc_col = 'GC_Content' if 'GC_Content' in normalized_df.columns else 'gc_content'\n",
    "    sns.boxplot(x='Target_Name', y=gc_col, data=normalized_df)\n",
    "    plt.title('GC Content by Target')\n",
    "    plt.xlabel('Target')\n",
    "    plt.ylabel('GC Content (%)')\n",
    "    plt.xticks(rotation=45, ha='right')\n",
    "    plt.tight_layout()\n",
    "    plt.show()\n",
    "    \n",
    "    # Calculate summary statistics by target\n",
    "    target_stats = normalized_df.groupby('Target_Name')['length'].describe()\n",
    "    print(\"Sequence length statistics by target:\")\n",
    "    print(target_stats)\n",
    "    \n",
    "    target_gc_stats = normalized_df.groupby('Target_Name')[gc_col].describe()\n",
    "    print(\"\\nGC content statistics by target:\")\n",
    "    print(target_gc_stats)"
   ]
  },
  {
   "cell_type": "markdown",
   "metadata": {},
   "source": [
    "## Sequence Similarity Analysis"
   ]
  },
  {
   "cell_type": "code",
   "execution_count": null,
   "metadata": {},
   "outputs": [],
   "source": [
    "def calculate_sequence_similarity(seq1, seq2):\n",
    "    \"\"\"Calculate simple sequence similarity based on matching nucleotides.\"\"\"\n",
    "    if len(seq1) != len(seq2):\n",
    "        # For sequences of different length, use a simple measure\n",
    "        min_len = min(len(seq1), len(seq2))\n",
    "        max_len = max(len(seq1), len(seq2))\n",
    "        matches = sum(a == b for a, b in zip(seq1[:min_len], seq2[:min_len]))\n",
    "        return matches / max_len\n",
    "    else:\n",
    "        # For same length sequences, calculate exact match percentage\n",
    "        matches = sum(a == b for a, b in zip(seq1, seq2))\n",
    "        return matches / len(seq1)\n",
    "\n",
    "if seq_col in normalized_df.columns and len(normalized_df) <= 50:  # Limit to reasonable size\n",
    "    # Sample sequences if there are too many\n",
    "    if len(normalized_df) > 20:\n",
    "        sample_df = normalized_df.sample(20)\n",
    "    else:\n",
    "        sample_df = normalized_df\n",
    "    \n",
    "    sequences = sample_df[seq_col].tolist()\n",
    "    seq_ids = sample_df.index.tolist()\n",
    "    \n",
    "    # Calculate similarity matrix\n",
    "    similarity_matrix = np.zeros((len(sequences), len(sequences)))\n",
    "    \n",
    "    for i in range(len(sequences)):\n",
    "        for j in range(len(sequences)):\n",
    "            similarity_matrix[i, j] = calculate_sequence_similarity(sequences[i], sequences[j])\n",
    "    \n",
    "    # Plot heatmap\n",
    "    plt.figure(figsize=(12, 10))\n",
    "    sns.heatmap(similarity_matrix, annot=True, fmt='.2f', cmap='viridis',\n",
    "               xticklabels=[f\"Seq {i+1}\" for i in range(len(sequences))],\n",
    "               yticklabels=[f\"Seq {i+1}\" for i in range(len(sequences))])\n",
    "    plt.title('Sequence Similarity Matrix')\n",
    "    plt.tight_layout()\n",
    "    plt.show()"
   ]
  },
  {
   "cell_type": "markdown",
   "metadata": {},
   "source": [
    "## Conclusions\n",
    "\n",
    "Based on the exploratory data analysis, we can draw the following conclusions:\n",
    "\n",
    "1. Dataset composition: [Fill in after running the notebook]\n",
    "2. Sequence characteristics: [Fill in after running the notebook]\n",
    "3. Target-specific patterns: [Fill in after running the notebook]\n",
    "4. Data quality issues: [Fill in after running the notebook]\n",
    "\n",
    "These insights will inform our feature extraction and model development in the following notebooks."
   ]
  }
 ],
 "metadata": {
  "kernelspec": {
   "display_name": "Python 3",
   "language": "python",
   "name": "python3"
  },
  "language_info": {
   "codemirror_mode": {
    "name": "ipython",
    "version": 3
   },
   "file_extension": ".py",
   "mimetype": "text/x-python",
   "name": "python",
   "nbconvert_exporter": "python",
   "pygments_lexer": "ipython3",
   "version": "3.8.10"
  }
 },
 "nbformat": 4,
 "nbformat_minor": 4
}
